{
 "cells": [
  {
   "cell_type": "code",
   "execution_count": 9,
   "metadata": {},
   "outputs": [
    {
     "name": "stdout",
     "output_type": "stream",
     "text": [
      "\\\n"
     ]
    }
   ],
   "source": [
    "import os\n",
    "import pickle\n",
    "# import tkFileDialog\n"
   ]
  },
  {
   "cell_type": "code",
   "execution_count": 12,
   "metadata": {},
   "outputs": [
    {
     "name": "stdout",
     "output_type": "stream",
     "text": [
      "D:\\Neural_Net_Models\\Wire_Detection\\xTrain\n"
     ]
    }
   ],
   "source": [
    "# Read in images.\n",
    "# dirname = tkFileDialog.askdirectory(parent=root,initialdir=\"/\",title='Please select a directory')\n",
    "dirName = \"D:\\\\Neural_Net_Models\\\\Wire_Detection\"\n",
    "xTrainDirName = os.path.join(dirName + os.sep + \"xTrain\")\n",
    "yTrainDirName = os.path.join(dirName + os.sep + \"yTrain\")\n",
    "xTrain = os.listdir(xTrainDirName)\n",
    "yTrain = os.listdir(yTrainDirName)\n"
   ]
  }
 ],
 "metadata": {
  "kernelspec": {
   "display_name": "Python 3",
   "language": "python",
   "name": "python3"
  },
  "language_info": {
   "codemirror_mode": {
    "name": "ipython",
    "version": 3
   },
   "file_extension": ".py",
   "mimetype": "text/x-python",
   "name": "python",
   "nbconvert_exporter": "python",
   "pygments_lexer": "ipython3",
   "version": "3.7.3"
  }
 },
 "nbformat": 4,
 "nbformat_minor": 2
}
